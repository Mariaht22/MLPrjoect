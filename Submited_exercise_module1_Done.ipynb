{
 "cells": [
  {
   "cell_type": "markdown",
   "metadata": {},
   "source": [
    "# Module 1: Practice Exercises"
   ]
  },
  {
   "cell_type": "markdown",
   "metadata": {},
   "source": [
    "1. Accept the user's first and last name and print them in reverse order with a space between them"
   ]
  },
  {
   "cell_type": "code",
   "execution_count": 2,
   "metadata": {},
   "outputs": [
    {
     "name": "stdout",
     "output_type": "stream",
     "text": [
      "Input your First Name : Thanh\n",
      "Input your Last Name : Tran\n",
      "Hello  Tran Thanh\n"
     ]
    }
   ],
   "source": [
    "fn=input(\"Input your First Name : \")\n",
    "ln=input(\"Input your Last Name : \")\n",
    "print(\"Hello \",ln, fn)"
   ]
  },
  {
   "cell_type": "markdown",
   "metadata": {},
   "source": [
    "2. Accept an integer (n) and compute the value of n+nn+nnn"
   ]
  },
  {
   "cell_type": "code",
   "execution_count": 3,
   "metadata": {},
   "outputs": [
    {
     "name": "stdout",
     "output_type": "stream",
     "text": [
      "Input an integer: 5\n",
      "n+nn+nnn= 615\n"
     ]
    }
   ],
   "source": [
    "n=int(input(\"Input an integer: \"))\n",
    "nn= str(n)+str(n)\n",
    "nnn= str(n)+str(n)+str(n)\n",
    "print(\"n+nn+nnn=\",int(nn)+n+int(nnn))"
   ]
  },
  {
   "cell_type": "markdown",
   "metadata": {},
   "source": [
    "3. Ask the user \"What country are you from?\" then print the following statement: \"I have heard that [input] is a beautiful country!\""
   ]
  },
  {
   "cell_type": "code",
   "execution_count": 6,
   "metadata": {},
   "outputs": [
    {
     "name": "stdout",
     "output_type": "stream",
     "text": [
      "What country are you from: Vietnam\n",
      "I have heard that Vietnam is a beautiful country!\n"
     ]
    }
   ],
   "source": [
    "Country= input(\"What country are you from: \")\n",
    "print(\"I have heard that\", Country, \"is a beautiful country!\")"
   ]
  },
  {
   "cell_type": "markdown",
   "metadata": {},
   "source": [
    "4. What is the output of the following Python code\n",
    "\n",
    "x = 10\n",
    "y = 50\n",
    "if (x ** 2 > 100 and y < 100):\n",
    "    print(x, y)"
   ]
  },
  {
   "cell_type": "code",
   "execution_count": 62,
   "metadata": {},
   "outputs": [],
   "source": [
    "x = 10\n",
    "y = 50\n",
    "if (x ** 2 > 100 and y < 100):\n",
    "    print(x, y)\n",
    "    \n",
    "#it prints nothing since 10^2=100 so it does not meet the if statement"
   ]
  },
  {
   "cell_type": "markdown",
   "metadata": {},
   "source": [
    "5. What is the output of x AND explain why that is the output for: \n",
    "x = 36 / 4 * (3 +  2) * 4 + 2"
   ]
  },
  {
   "cell_type": "code",
   "execution_count": 11,
   "metadata": {},
   "outputs": [
    {
     "name": "stdout",
     "output_type": "stream",
     "text": [
      "182.0\n"
     ]
    }
   ],
   "source": [
    "x = 36 / 4 * (3 +  2) * 4 + 2 #36/4 *5 *4 +2= 9*5*4 +2= 180+2\n",
    "print(x)"
   ]
  },
  {
   "cell_type": "markdown",
   "metadata": {},
   "source": [
    "6. Write a for loop that multiplies the number 4 by all the integers from 0 to 10 and prints the following for each: \"4 multiplied by [i] is [x]\" "
   ]
  },
  {
   "cell_type": "code",
   "execution_count": 24,
   "metadata": {},
   "outputs": [
    {
     "name": "stdout",
     "output_type": "stream",
     "text": [
      "Input an interger:4\n",
      "The Multiplication Table of:  4\n",
      "4 x 1 = 4\n",
      "4 x 2 = 8\n",
      "4 x 3 = 12\n",
      "4 x 4 = 16\n",
      "4 x 5 = 20\n",
      "4 x 6 = 24\n",
      "4 x 7 = 28\n",
      "4 x 8 = 32\n",
      "4 x 9 = 36\n",
      "4 x 10 = 40\n"
     ]
    }
   ],
   "source": [
    "a=int(input(\"Input an interger:\")) \n",
    "# using while loop for iterating the multiplication 10 times      \n",
    "print (\"The Multiplication Table of: \", a)    \n",
    "for i in range (1, 11):    \n",
    "    print (a, 'x', i, '=', a*i)      "
   ]
  },
  {
   "cell_type": "markdown",
   "metadata": {},
   "source": [
    "7. Print a multiplication table that matches the following. Use two nested for loops to achieve this."
   ]
  },
  {
   "cell_type": "markdown",
   "metadata": {},
   "source": [
    "<img src=\"files/table.png\">"
   ]
  },
  {
   "cell_type": "code",
   "execution_count": 60,
   "metadata": {},
   "outputs": [
    {
     "name": "stdout",
     "output_type": "stream",
     "text": [
      " 1  2  3  4  5  6  7  8  9 10 \n",
      "\n",
      " 2  4  6  8 10 12 14 16 18 20 \n",
      "\n",
      " 3  6  9 12 15 18 21 24 27 30 \n",
      "\n",
      " 4  8 12 16 20 24 28 32 36 40 \n",
      "\n",
      " 5 10 15 20 25 30 35 40 45 50 \n",
      "\n",
      " 6 12 18 24 30 36 42 48 54 60 \n",
      "\n",
      " 7 14 21 28 35 42 49 56 63 70 \n",
      "\n",
      " 8 16 24 32 40 48 56 64 72 80 \n",
      "\n",
      " 9 18 27 36 45 54 63 72 81 90 \n",
      "\n",
      "10 20 30 40 50 60 70 80 90 100 \n",
      "\n"
     ]
    }
   ],
   "source": [
    "for i in range(1,11):\n",
    "    for j in range(1,11):# inner for loop\n",
    "        print(\"{:2d} \".format(i*j),end='')\n",
    "    print(\"\\n\")#line break"
   ]
  },
  {
   "cell_type": "markdown",
   "metadata": {},
   "source": [
    "8. What is the output of the following code and what arithmetic operators is being used here? print(2%6)"
   ]
  },
  {
   "cell_type": "code",
   "execution_count": 64,
   "metadata": {},
   "outputs": [
    {
     "name": "stdout",
     "output_type": "stream",
     "text": [
      "2\n"
     ]
    }
   ],
   "source": [
    "print(2%6) #2 module 6"
   ]
  },
  {
   "cell_type": "markdown",
   "metadata": {},
   "source": [
    "9. What is the output of the following code and what arithmetic operators are used here? print(2 * 3 ** 3 * 4)"
   ]
  },
  {
   "cell_type": "code",
   "execution_count": 65,
   "metadata": {},
   "outputs": [
    {
     "name": "stdout",
     "output_type": "stream",
     "text": [
      "216\n"
     ]
    }
   ],
   "source": [
    "print(2 * 3 ** 3 * 4)"
   ]
  },
  {
   "cell_type": "markdown",
   "metadata": {},
   "source": [
    "- - -\n",
    "\n",
    "Copyright © 2020 Qualex Consulting Services Incorporated."
   ]
  }
 ],
 "metadata": {
  "kernelspec": {
   "display_name": "Python 3 (ipykernel)",
   "language": "python",
   "name": "python3"
  },
  "language_info": {
   "codemirror_mode": {
    "name": "ipython",
    "version": 3
   },
   "file_extension": ".py",
   "mimetype": "text/x-python",
   "name": "python",
   "nbconvert_exporter": "python",
   "pygments_lexer": "ipython3",
   "version": "3.9.12"
  }
 },
 "nbformat": 4,
 "nbformat_minor": 4
}
